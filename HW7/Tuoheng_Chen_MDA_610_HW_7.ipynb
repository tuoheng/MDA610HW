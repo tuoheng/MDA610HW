{
 "cells": [
  {
   "cell_type": "code",
   "execution_count": 3,
   "metadata": {},
   "outputs": [
    {
     "data": {
      "text/plain": [
       "{'mean': 8.392857142857142,\n",
       " 'variance': 43.434948979591844,\n",
       " 'std': 6.5905196289512595}"
      ]
     },
     "execution_count": 3,
     "metadata": {},
     "output_type": "execute_result"
    }
   ],
   "source": [
    "#Write a function to compute the mean, (sample) variance and (sample) standard deviation of a list of floating-point numbers passed to the function. The function returns a dictionary that maps a set of keys to the above descriptive statistic values.\n",
    "\n",
    "#Write a function to compute the mean of a series of numbers entered by the user. The user is allowed to input as many numbers as she/he wants. After the user enters \"stop\" instead of a number, the function computes and returns the mean value.\n",
    "def compute_status(x):\n",
    "    import numpy as np\n",
    "    ans_dict={}\n",
    "    ans_name_list=['mean','variance','std']\n",
    "    m = np.mean(x)\n",
    "    v = np.var(x)\n",
    "    s = np.std(x)\n",
    "    ans_values_list=[m,v,s]\n",
    "    for i in range(len(ans_name_list)):\n",
    "        ans_dict[ans_name_list[i]]=ans_values_list[i]\n",
    "    return ans_dict\n",
    "x = [1.5,2,2.5,4,5,2,10,8,5.5,20,15,13,6.5,22.5]\n",
    "compute_status(x)"
   ]
  },
  {
   "cell_type": "code",
   "execution_count": 2,
   "metadata": {},
   "outputs": [
    {
     "name": "stdout",
     "output_type": "stream",
     "text": [
      "Enter a series of numbers or type \"Stop\" to quit 1\n",
      "Enter a series of numbers or type \"Stop\" to quit 111\n",
      "Enter a series of numbers or type \"Stop\" to quit 2\n",
      "Enter a series of numbers or type \"Stop\" to quit 2\n",
      "Enter a series of numbers or type \"Stop\" to quit Stop\n",
      "The mean of numbers input is: 29.0\n"
     ]
    }
   ],
   "source": [
    "import numpy as np\n",
    "try:\n",
    "    l = []\n",
    "    while True:\n",
    "        l.append(float(input('Enter a series of numbers or type \"Stop\" to quit ')))\n",
    "except:\n",
    "    print('The mean of numbers input is: '+str(np.mean(l)))"
   ]
  },
  {
   "cell_type": "code",
   "execution_count": null,
   "metadata": {},
   "outputs": [],
   "source": []
  }
 ],
 "metadata": {
  "kernelspec": {
   "display_name": "Python 3",
   "language": "python",
   "name": "python3"
  },
  "language_info": {
   "codemirror_mode": {
    "name": "ipython",
    "version": 3
   },
   "file_extension": ".py",
   "mimetype": "text/x-python",
   "name": "python",
   "nbconvert_exporter": "python",
   "pygments_lexer": "ipython3",
   "version": "3.6.9"
  }
 },
 "nbformat": 4,
 "nbformat_minor": 2
}
