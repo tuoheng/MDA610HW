{
 "cells": [
  {
   "cell_type": "code",
   "execution_count": 1,
   "metadata": {},
   "outputs": [
    {
     "name": "stdout",
     "output_type": "stream",
     "text": [
      "input a string:\t1234\n",
      "THE reverse copy is:\t 4321\n"
     ]
    }
   ],
   "source": [
    "String = input(\"input a string:\\t\")\n",
    "Output = String[::-1]\n",
    "print(\"THE reverse copy is:\\t\",Output)"
   ]
  },
  {
   "cell_type": "code",
   "execution_count": 3,
   "metadata": {},
   "outputs": [
    {
     "name": "stdout",
     "output_type": "stream",
     "text": [
      "in put a number:\t4\n",
      "(1, 2, 3, 4)\n",
      "0.25\n"
     ]
    }
   ],
   "source": [
    "def average(*args):\n",
    "    print(args)\n",
    "    sum= 0.0\n",
    "    for x in args:\n",
    "        sum += x\n",
    "        return sum / len(args)\n",
    "a=[1,2,3]\n",
    "b=int(input(\"in put a number:\\t\"))\n",
    "a.append(b)\n",
    "print(average(*a))"
   ]
  },
  {
   "cell_type": "code",
   "execution_count": 4,
   "metadata": {},
   "outputs": [
    {
     "name": "stdout",
     "output_type": "stream",
     "text": [
      "Input the radius of the circle:10\n",
      "the area of circle with radius10.0is: 314.1592653589793\n"
     ]
    }
   ],
   "source": [
    "from math import pi\n",
    "r= float(input(\"Input the radius of the circle:\"))\n",
    "print(\"the area of circle with radius\"+ str(r)+\"is: \"+str(pi * r**2))"
   ]
  },
  {
   "cell_type": "code",
   "execution_count": 15,
   "metadata": {},
   "outputs": [
    {
     "name": "stdout",
     "output_type": "stream",
     "text": [
      "input a number:\t1\n",
      "THE natural logarithm is:\t 1.0\n",
      "THE common logarithm is:\t 0.43429448190325176\n"
     ]
    }
   ],
   "source": [
    "import math\n",
    "from math import e\n",
    "\n",
    "x = int(input(\"input a number:\\t\"))\n",
    "y = e**x\n",
    "print(\"THE natural logarithm is:\\t\",math.log(y,e))\n",
    "print(\"THE common logarithm is:\\t\",math.log(y,10))\n"
   ]
  },
  {
   "cell_type": "code",
   "execution_count": null,
   "metadata": {},
   "outputs": [],
   "source": []
  }
 ],
 "metadata": {
  "kernelspec": {
   "display_name": "Python 3",
   "language": "python",
   "name": "python3"
  },
  "language_info": {
   "codemirror_mode": {
    "name": "ipython",
    "version": 3
   },
   "file_extension": ".py",
   "mimetype": "text/x-python",
   "name": "python",
   "nbconvert_exporter": "python",
   "pygments_lexer": "ipython3",
   "version": "3.6.9"
  }
 },
 "nbformat": 4,
 "nbformat_minor": 2
}
